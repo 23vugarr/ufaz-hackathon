{
 "cells": [
  {
   "cell_type": "code",
   "execution_count": 1,
   "metadata": {},
   "outputs": [],
   "source": [
    "from web3 import Web3\n",
    "import json"
   ]
  },
  {
   "cell_type": "code",
   "execution_count": 4,
   "metadata": {},
   "outputs": [],
   "source": [
    "w3 = Web3(Web3.HTTPProvider('https://data-seed-prebsc-1-s1.binance.org:8545'))\n",
    "\n",
    "contract_address = '0x07e24855e716bD29CF0843E4691f9d9af27B319B'\n",
    "with open('../token/token.json') as f:\n",
    "    contract_abi = json.load(f)\n"
   ]
  },
  {
   "cell_type": "code",
   "execution_count": 8,
   "metadata": {},
   "outputs": [
    {
     "name": "stdout",
     "output_type": "stream",
     "text": [
      "Azercell 0\n"
     ]
    }
   ],
   "source": [
    "contract = w3.eth.contract(address=contract_address, abi=contract_abi)\n",
    "name = contract.functions.name().call()\n",
    "total_supply = contract.functions.totalSupply().call()\n",
    "print(name, total_supply)"
   ]
  },
  {
   "cell_type": "code",
   "execution_count": 30,
   "metadata": {},
   "outputs": [
    {
     "data": {
      "text/plain": [
       "<Response [200]>"
      ]
     },
     "execution_count": 30,
     "metadata": {},
     "output_type": "execute_result"
    }
   ],
   "source": [
    "# get binance test net data and analytict\n",
    "\n",
    "import requests\n",
    "import json\n",
    "import pandas as pd\n",
    "\n",
    "def fetch_data():\n",
    "    # use binance test net\n",
    "    url = 'https://api.bscscan.com/api?module=account&action=tokenbalance&contractaddress=0x07e24855e716bD29CF0843E4691f9d9af27B319B&address=0x8f9c7c7c1b8c2e891b6f9a75e3b4d83a87b62d5e&tag=latest&apikey=YourApiKeyToken'\n",
    "    response = requests.get(url)\n",
    "    # data = response.json()\n",
    "\n",
    "    # df = pd.DataFrame(data)\n",
    "\n",
    "    return response\n",
    "\n",
    "fetch_data()"
   ]
  },
  {
   "cell_type": "code",
   "execution_count": 57,
   "metadata": {},
   "outputs": [
    {
     "data": {
      "text/plain": [
       "'{'"
      ]
     },
     "execution_count": 57,
     "metadata": {},
     "output_type": "execute_result"
    }
   ],
   "source": [
    "import os\n",
    "import dotenv\n",
    "dotenv.load_dotenv()\n",
    "\n",
    "os.getenv('PARAMS')\n"
   ]
  },
  {
   "cell_type": "code",
   "execution_count": 58,
   "metadata": {},
   "outputs": [
    {
     "data": {
      "text/plain": [
       "'https://api.coingecko.com/api/v3/coins/markets'"
      ]
     },
     "execution_count": 58,
     "metadata": {},
     "output_type": "execute_result"
    }
   ],
   "source": [
    "os.getenv('URL')"
   ]
  },
  {
   "cell_type": "code",
   "execution_count": 59,
   "metadata": {},
   "outputs": [
    {
     "data": {
      "text/plain": [
       "True"
      ]
     },
     "execution_count": 59,
     "metadata": {},
     "output_type": "execute_result"
    }
   ],
   "source": [
    "dotenv.load_dotenv()"
   ]
  },
  {
   "cell_type": "code",
   "execution_count": 68,
   "metadata": {},
   "outputs": [
    {
     "data": {
      "text/plain": [
       "'{'"
      ]
     },
     "execution_count": 68,
     "metadata": {},
     "output_type": "execute_result"
    }
   ],
   "source": [
    "os.environ.get('PARAMS')"
   ]
  },
  {
   "cell_type": "code",
   "execution_count": 61,
   "metadata": {},
   "outputs": [
    {
     "data": {
      "text/plain": [
       "'JKWEFK'"
      ]
     },
     "execution_count": 61,
     "metadata": {},
     "output_type": "execute_result"
    }
   ],
   "source": [
    "os.environ.get('HI')"
   ]
  },
  {
   "cell_type": "code",
   "execution_count": 18,
   "metadata": {},
   "outputs": [],
   "source": [
    "URL_MARKET = \"https://api.coingecko.com/api/v3/coins/markets\"\n",
    "URL_ADDRESS = \"https://api.coingecko.com/api/v3/derivatives\"\n",
    "PARAMS = {\n",
    "    \"vs_currency\": \"usd\", \n",
    "    \"per_page\": 200, \n",
    "    \"page\": 1,  \n",
    "    \"order\": \"market_cap_desc\" \n",
    "};"
   ]
  },
  {
   "cell_type": "code",
   "execution_count": 19,
   "metadata": {},
   "outputs": [
    {
     "data": {
      "text/html": [
       "<div>\n",
       "<style scoped>\n",
       "    .dataframe tbody tr th:only-of-type {\n",
       "        vertical-align: middle;\n",
       "    }\n",
       "\n",
       "    .dataframe tbody tr th {\n",
       "        vertical-align: top;\n",
       "    }\n",
       "\n",
       "    .dataframe thead th {\n",
       "        text-align: right;\n",
       "    }\n",
       "</style>\n",
       "<table border=\"1\" class=\"dataframe\">\n",
       "  <thead>\n",
       "    <tr style=\"text-align: right;\">\n",
       "      <th></th>\n",
       "      <th>market</th>\n",
       "      <th>symbol</th>\n",
       "      <th>index_id</th>\n",
       "      <th>price</th>\n",
       "      <th>price_percentage_change_24h</th>\n",
       "      <th>contract_type</th>\n",
       "      <th>index</th>\n",
       "      <th>basis</th>\n",
       "      <th>spread</th>\n",
       "      <th>funding_rate</th>\n",
       "      <th>open_interest</th>\n",
       "      <th>volume_24h</th>\n",
       "      <th>last_traded_at</th>\n",
       "      <th>expired_at</th>\n",
       "    </tr>\n",
       "  </thead>\n",
       "  <tbody>\n",
       "    <tr>\n",
       "      <th>0</th>\n",
       "      <td>Deepcoin (Derivatives)</td>\n",
       "      <td>ETHUSDT</td>\n",
       "      <td>ETH</td>\n",
       "      <td>1567.9</td>\n",
       "      <td>-0.367549</td>\n",
       "      <td>perpetual</td>\n",
       "      <td>1567.540000</td>\n",
       "      <td>0.047230</td>\n",
       "      <td>0.02</td>\n",
       "      <td>0.022632</td>\n",
       "      <td>5.287683e+09</td>\n",
       "      <td>1.955745e+09</td>\n",
       "      <td>1677943235</td>\n",
       "      <td>NaN</td>\n",
       "    </tr>\n",
       "    <tr>\n",
       "      <th>1</th>\n",
       "      <td>BTSE (Futures)</td>\n",
       "      <td>BTCPFC</td>\n",
       "      <td>BTCPFC</td>\n",
       "      <td>22334.8</td>\n",
       "      <td>-0.101532</td>\n",
       "      <td>perpetual</td>\n",
       "      <td>22344.692829</td>\n",
       "      <td>0.044293</td>\n",
       "      <td>0.01</td>\n",
       "      <td>0.000000</td>\n",
       "      <td>2.355714e+09</td>\n",
       "      <td>6.377135e+07</td>\n",
       "      <td>1677943377</td>\n",
       "      <td>NaN</td>\n",
       "    </tr>\n",
       "    <tr>\n",
       "      <th>2</th>\n",
       "      <td>Binance (Futures)</td>\n",
       "      <td>BTCUSDT</td>\n",
       "      <td>BTC</td>\n",
       "      <td>22351.09</td>\n",
       "      <td>-0.093050</td>\n",
       "      <td>perpetual</td>\n",
       "      <td>22341.386461</td>\n",
       "      <td>0.038896</td>\n",
       "      <td>0.01</td>\n",
       "      <td>0.002369</td>\n",
       "      <td>2.217129e+09</td>\n",
       "      <td>4.983587e+09</td>\n",
       "      <td>1677943382</td>\n",
       "      <td>NaN</td>\n",
       "    </tr>\n",
       "    <tr>\n",
       "      <th>3</th>\n",
       "      <td>Bitget Futures</td>\n",
       "      <td>BTCUSDT_UMCBL</td>\n",
       "      <td>BTC</td>\n",
       "      <td>22348.89</td>\n",
       "      <td>-0.116297</td>\n",
       "      <td>perpetual</td>\n",
       "      <td>22342.386565</td>\n",
       "      <td>0.053230</td>\n",
       "      <td>0.01</td>\n",
       "      <td>0.002400</td>\n",
       "      <td>1.983241e+09</td>\n",
       "      <td>2.333672e+09</td>\n",
       "      <td>1677943401</td>\n",
       "      <td>NaN</td>\n",
       "    </tr>\n",
       "    <tr>\n",
       "      <th>4</th>\n",
       "      <td>Binance (Futures)</td>\n",
       "      <td>ETHUSDT</td>\n",
       "      <td>ETH</td>\n",
       "      <td>1568.09</td>\n",
       "      <td>-0.259727</td>\n",
       "      <td>perpetual</td>\n",
       "      <td>1567.682105</td>\n",
       "      <td>0.056300</td>\n",
       "      <td>0.01</td>\n",
       "      <td>0.001625</td>\n",
       "      <td>1.499617e+09</td>\n",
       "      <td>3.495606e+09</td>\n",
       "      <td>1677943383</td>\n",
       "      <td>NaN</td>\n",
       "    </tr>\n",
       "  </tbody>\n",
       "</table>\n",
       "</div>"
      ],
      "text/plain": [
       "                   market         symbol index_id     price  \\\n",
       "0  Deepcoin (Derivatives)        ETHUSDT      ETH    1567.9   \n",
       "1          BTSE (Futures)         BTCPFC   BTCPFC   22334.8   \n",
       "2       Binance (Futures)        BTCUSDT      BTC  22351.09   \n",
       "3          Bitget Futures  BTCUSDT_UMCBL      BTC  22348.89   \n",
       "4       Binance (Futures)        ETHUSDT      ETH   1568.09   \n",
       "\n",
       "   price_percentage_change_24h contract_type         index     basis  spread  \\\n",
       "0                    -0.367549     perpetual   1567.540000  0.047230    0.02   \n",
       "1                    -0.101532     perpetual  22344.692829  0.044293    0.01   \n",
       "2                    -0.093050     perpetual  22341.386461  0.038896    0.01   \n",
       "3                    -0.116297     perpetual  22342.386565  0.053230    0.01   \n",
       "4                    -0.259727     perpetual   1567.682105  0.056300    0.01   \n",
       "\n",
       "   funding_rate  open_interest    volume_24h  last_traded_at  expired_at  \n",
       "0      0.022632   5.287683e+09  1.955745e+09      1677943235         NaN  \n",
       "1      0.000000   2.355714e+09  6.377135e+07      1677943377         NaN  \n",
       "2      0.002369   2.217129e+09  4.983587e+09      1677943382         NaN  \n",
       "3      0.002400   1.983241e+09  2.333672e+09      1677943401         NaN  \n",
       "4      0.001625   1.499617e+09  3.495606e+09      1677943383         NaN  "
      ]
     },
     "execution_count": 19,
     "metadata": {},
     "output_type": "execute_result"
    }
   ],
   "source": [
    "# fetch wallet addresses\n",
    "import requests\n",
    "import json\n",
    "import pandas as pd\n",
    "\n",
    "def fetch_data(url: str) -> pd.DataFrame:\n",
    "    response = requests.get(url, params=PARAMS)\n",
    "    data = response.json()\n",
    "    data = pd.DataFrame(data)\n",
    "    return data\n",
    "\n",
    "df = fetch_data(URL_ADDRESS)\n",
    "df.head()\n",
    "\n"
   ]
  },
  {
   "cell_type": "code",
   "execution_count": null,
   "metadata": {},
   "outputs": [],
   "source": []
  }
 ],
 "metadata": {
  "kernelspec": {
   "display_name": "Python 3",
   "language": "python",
   "name": "python3"
  },
  "language_info": {
   "codemirror_mode": {
    "name": "ipython",
    "version": 3
   },
   "file_extension": ".py",
   "mimetype": "text/x-python",
   "name": "python",
   "nbconvert_exporter": "python",
   "pygments_lexer": "ipython3",
   "version": "3.9.12"
  },
  "orig_nbformat": 4,
  "vscode": {
   "interpreter": {
    "hash": "c815d5522d730692d6fc1bd8cf8011d5716afbe816a33b6bfcadd78ff6b33837"
   }
  }
 },
 "nbformat": 4,
 "nbformat_minor": 2
}
