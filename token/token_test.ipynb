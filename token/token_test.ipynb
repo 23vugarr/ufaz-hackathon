{
 "cells": [
  {
   "cell_type": "code",
   "execution_count": 1,
   "metadata": {},
   "outputs": [],
   "source": [
    "import requests\n",
    "import json\n",
    "import pandas as pd\n",
    "from web3 import Web3"
   ]
  },
  {
   "cell_type": "code",
   "execution_count": 2,
   "metadata": {},
   "outputs": [],
   "source": [
    "w3 = Web3(Web3.HTTPProvider('https://data-seed-prebsc-1-s1.binance.org:8545'))\n",
    "\n",
    "contract_address = '0x07e24855e716bD29CF0843E4691f9d9af27B319B'\n",
    "with open('token_abi.json') as f:\n",
    "    contract_abi = json.load(f)"
   ]
  },
  {
   "cell_type": "code",
   "execution_count": 3,
   "metadata": {},
   "outputs": [
    {
     "name": "stdout",
     "output_type": "stream",
     "text": [
      "Azercell AzC\n"
     ]
    }
   ],
   "source": [
    "contract = w3.eth.contract(address=contract_address, abi=contract_abi)\n",
    "name = contract.functions.name().call()\n",
    "symbol = contract.functions.symbol().call()\n",
    "print(name, symbol)"
   ]
  },
  {
   "cell_type": "code",
   "execution_count": null,
   "metadata": {},
   "outputs": [],
   "source": []
  }
 ],
 "metadata": {
  "kernelspec": {
   "display_name": "Python 3",
   "language": "python",
   "name": "python3"
  },
  "language_info": {
   "codemirror_mode": {
    "name": "ipython",
    "version": 3
   },
   "file_extension": ".py",
   "mimetype": "text/x-python",
   "name": "python",
   "nbconvert_exporter": "python",
   "pygments_lexer": "ipython3",
   "version": "3.9.12"
  },
  "orig_nbformat": 4,
  "vscode": {
   "interpreter": {
    "hash": "c815d5522d730692d6fc1bd8cf8011d5716afbe816a33b6bfcadd78ff6b33837"
   }
  }
 },
 "nbformat": 4,
 "nbformat_minor": 2
}
