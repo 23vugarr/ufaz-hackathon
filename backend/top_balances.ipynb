{
 "cells": [
  {
   "cell_type": "code",
   "execution_count": 403,
   "metadata": {},
   "outputs": [],
   "source": [
    "import pandas as pd"
   ]
  },
  {
   "cell_type": "code",
   "execution_count": 404,
   "metadata": {},
   "outputs": [],
   "source": [
    "wallets = [\"0xdd92062adf9f6edf528babe7f04804fe86424a74\", \"0xdf367477c5e596af88e8797c3cde8e28854cb79c\", \"0x1a4c1d3d766fa0f0c961a1c4da721a2a6bc5d920\", \"0xfa52387d626109c1b2c103ec85f8f8124a8d31b6\", \"0x4c0b801d56d7245ab67f0d7f4773456dd2c689dd\", \"0xf89ebfa55385f1aef401d5dc5ee761569e45874e\", \"0x7122db0ebe4eb9b434a9f2ffe6760bc03bfbd0e0\", \"0x5c6428181b9b34df8c1f2af7718f03cacc79d183\", \"0xbd2b92bf7b37e1e3e44b263b0901445485ee1578\", \"0xf708e1540697788fe5b02393398f80afc9b81783\"]"
   ]
  },
  {
   "cell_type": "code",
   "execution_count": 405,
   "metadata": {},
   "outputs": [
    {
     "data": {
      "text/plain": [
       "'0xdd92062adf9f6edf528babe7f04804fe86424a74'"
      ]
     },
     "execution_count": 405,
     "metadata": {},
     "output_type": "execute_result"
    }
   ],
   "source": [
    "wallets[0]"
   ]
  },
  {
   "cell_type": "code",
   "execution_count": 406,
   "metadata": {},
   "outputs": [],
   "source": [
    "new_data = pd.DataFrame()"
   ]
  },
  {
   "cell_type": "code",
   "execution_count": 407,
   "metadata": {},
   "outputs": [],
   "source": [
    "import requests \n",
    "for i in (wallets):\n",
    "    api = 'APH4CYHTAGXCF1M2GZ4UJJ433CEW3T6QTY'\n",
    "    url = f'https://api.etherscan.io/api?module=account&action=balancemulti&address={i}&tag=latest&apikey={api}'\n",
    "    response = requests.get(url)\n",
    "    data = response.json()\n",
    "    data = pd.DataFrame(data)\n",
    "    new_data = pd.concat([new_data, data])"
   ]
  },
  {
   "cell_type": "code",
   "execution_count": 408,
   "metadata": {},
   "outputs": [],
   "source": [
    "new_data[\"account\"] = new_data[\"result\"].apply(lambda x: x[\"account\"])\n",
    "new_data[\"balance\"] = new_data[\"result\"].apply(lambda x: x[\"balance\"])\n"
   ]
  },
  {
   "cell_type": "code",
   "execution_count": 409,
   "metadata": {},
   "outputs": [],
   "source": [
    "new_data[\"balance\"] = new_data.balance.astype('float')"
   ]
  },
  {
   "cell_type": "code",
   "execution_count": 410,
   "metadata": {},
   "outputs": [],
   "source": [
    "new_data.drop(columns=[\"result\"], inplace=True)\n",
    "new_data.sort_values(by=[\"balance\"], ascending=False, inplace=True)"
   ]
  },
  {
   "cell_type": "code",
   "execution_count": 411,
   "metadata": {},
   "outputs": [
    {
     "data": {
      "text/html": [
       "<div>\n",
       "<style scoped>\n",
       "    .dataframe tbody tr th:only-of-type {\n",
       "        vertical-align: middle;\n",
       "    }\n",
       "\n",
       "    .dataframe tbody tr th {\n",
       "        vertical-align: top;\n",
       "    }\n",
       "\n",
       "    .dataframe thead th {\n",
       "        text-align: right;\n",
       "    }\n",
       "</style>\n",
       "<table border=\"1\" class=\"dataframe\">\n",
       "  <thead>\n",
       "    <tr style=\"text-align: right;\">\n",
       "      <th></th>\n",
       "      <th>status</th>\n",
       "      <th>message</th>\n",
       "      <th>account</th>\n",
       "      <th>balance</th>\n",
       "    </tr>\n",
       "  </thead>\n",
       "  <tbody>\n",
       "    <tr>\n",
       "      <th>0</th>\n",
       "      <td>1</td>\n",
       "      <td>OK</td>\n",
       "      <td>0xfa52387d626109c1b2c103ec85f8f8124a8d31b6</td>\n",
       "      <td>6.752866e+18</td>\n",
       "    </tr>\n",
       "    <tr>\n",
       "      <th>0</th>\n",
       "      <td>1</td>\n",
       "      <td>OK</td>\n",
       "      <td>0x1a4c1d3d766fa0f0c961a1c4da721a2a6bc5d920</td>\n",
       "      <td>1.235524e+17</td>\n",
       "    </tr>\n",
       "    <tr>\n",
       "      <th>0</th>\n",
       "      <td>1</td>\n",
       "      <td>OK</td>\n",
       "      <td>0x5c6428181b9b34df8c1f2af7718f03cacc79d183</td>\n",
       "      <td>1.024794e+17</td>\n",
       "    </tr>\n",
       "    <tr>\n",
       "      <th>0</th>\n",
       "      <td>1</td>\n",
       "      <td>OK</td>\n",
       "      <td>0xf89ebfa55385f1aef401d5dc5ee761569e45874e</td>\n",
       "      <td>5.006582e+15</td>\n",
       "    </tr>\n",
       "    <tr>\n",
       "      <th>0</th>\n",
       "      <td>1</td>\n",
       "      <td>OK</td>\n",
       "      <td>0x4c0b801d56d7245ab67f0d7f4773456dd2c689dd</td>\n",
       "      <td>4.338011e+15</td>\n",
       "    </tr>\n",
       "    <tr>\n",
       "      <th>0</th>\n",
       "      <td>1</td>\n",
       "      <td>OK</td>\n",
       "      <td>0xbd2b92bf7b37e1e3e44b263b0901445485ee1578</td>\n",
       "      <td>7.673479e+14</td>\n",
       "    </tr>\n",
       "    <tr>\n",
       "      <th>0</th>\n",
       "      <td>1</td>\n",
       "      <td>OK</td>\n",
       "      <td>0xdd92062adf9f6edf528babe7f04804fe86424a74</td>\n",
       "      <td>0.000000e+00</td>\n",
       "    </tr>\n",
       "    <tr>\n",
       "      <th>0</th>\n",
       "      <td>1</td>\n",
       "      <td>OK</td>\n",
       "      <td>0xdf367477c5e596af88e8797c3cde8e28854cb79c</td>\n",
       "      <td>0.000000e+00</td>\n",
       "    </tr>\n",
       "    <tr>\n",
       "      <th>0</th>\n",
       "      <td>1</td>\n",
       "      <td>OK</td>\n",
       "      <td>0x7122db0ebe4eb9b434a9f2ffe6760bc03bfbd0e0</td>\n",
       "      <td>0.000000e+00</td>\n",
       "    </tr>\n",
       "    <tr>\n",
       "      <th>0</th>\n",
       "      <td>1</td>\n",
       "      <td>OK</td>\n",
       "      <td>0xf708e1540697788fe5b02393398f80afc9b81783</td>\n",
       "      <td>0.000000e+00</td>\n",
       "    </tr>\n",
       "  </tbody>\n",
       "</table>\n",
       "</div>"
      ],
      "text/plain": [
       "  status message                                     account       balance\n",
       "0      1      OK  0xfa52387d626109c1b2c103ec85f8f8124a8d31b6  6.752866e+18\n",
       "0      1      OK  0x1a4c1d3d766fa0f0c961a1c4da721a2a6bc5d920  1.235524e+17\n",
       "0      1      OK  0x5c6428181b9b34df8c1f2af7718f03cacc79d183  1.024794e+17\n",
       "0      1      OK  0xf89ebfa55385f1aef401d5dc5ee761569e45874e  5.006582e+15\n",
       "0      1      OK  0x4c0b801d56d7245ab67f0d7f4773456dd2c689dd  4.338011e+15\n",
       "0      1      OK  0xbd2b92bf7b37e1e3e44b263b0901445485ee1578  7.673479e+14\n",
       "0      1      OK  0xdd92062adf9f6edf528babe7f04804fe86424a74  0.000000e+00\n",
       "0      1      OK  0xdf367477c5e596af88e8797c3cde8e28854cb79c  0.000000e+00\n",
       "0      1      OK  0x7122db0ebe4eb9b434a9f2ffe6760bc03bfbd0e0  0.000000e+00\n",
       "0      1      OK  0xf708e1540697788fe5b02393398f80afc9b81783  0.000000e+00"
      ]
     },
     "execution_count": 411,
     "metadata": {},
     "output_type": "execute_result"
    }
   ],
   "source": [
    "new_data"
   ]
  },
  {
   "cell_type": "code",
   "execution_count": 412,
   "metadata": {},
   "outputs": [],
   "source": [
    "new_data.sort_values(by=[\"balance\"], ascending=False, inplace=True)"
   ]
  },
  {
   "cell_type": "code",
   "execution_count": null,
   "metadata": {},
   "outputs": [],
   "source": []
  },
  {
   "cell_type": "code",
   "execution_count": null,
   "metadata": {},
   "outputs": [],
   "source": []
  },
  {
   "cell_type": "code",
   "execution_count": null,
   "metadata": {},
   "outputs": [],
   "source": []
  }
 ],
 "metadata": {
  "kernelspec": {
   "display_name": "Python 3",
   "language": "python",
   "name": "python3"
  },
  "language_info": {
   "codemirror_mode": {
    "name": "ipython",
    "version": 3
   },
   "file_extension": ".py",
   "mimetype": "text/x-python",
   "name": "python",
   "nbconvert_exporter": "python",
   "pygments_lexer": "ipython3",
   "version": "3.9.12"
  },
  "orig_nbformat": 4,
  "vscode": {
   "interpreter": {
    "hash": "c815d5522d730692d6fc1bd8cf8011d5716afbe816a33b6bfcadd78ff6b33837"
   }
  }
 },
 "nbformat": 4,
 "nbformat_minor": 2
}
